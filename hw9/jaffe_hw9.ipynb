{
 "cells": [
  {
   "cell_type": "markdown",
   "metadata": {},
   "source": [
    "# HW 9: Bayesian inference"
   ]
  },
  {
   "cell_type": "markdown",
   "metadata": {},
   "source": [
    "# Part (a)"
   ]
  },
  {
   "cell_type": "code",
   "execution_count": 1,
   "metadata": {},
   "outputs": [
    {
     "name": "stderr",
     "output_type": "stream",
     "text": [
      "/Users/mattjaffe/anaconda3/lib/python3.6/site-packages/h5py/__init__.py:36: FutureWarning: Conversion of the second argument of issubdtype from `float` to `np.floating` is deprecated. In future, it will be treated as `np.float64 == np.dtype(float).type`.\n",
      "  from ._conv import register_converters as _register_converters\n"
     ]
    },
    {
     "data": {
      "text/html": [
       "<div>\n",
       "<style scoped>\n",
       "    .dataframe tbody tr th:only-of-type {\n",
       "        vertical-align: middle;\n",
       "    }\n",
       "\n",
       "    .dataframe tbody tr th {\n",
       "        vertical-align: top;\n",
       "    }\n",
       "\n",
       "    .dataframe thead th {\n",
       "        text-align: right;\n",
       "    }\n",
       "</style>\n",
       "<table border=\"1\" class=\"dataframe\">\n",
       "  <thead>\n",
       "    <tr style=\"text-align: right;\">\n",
       "      <th></th>\n",
       "      <th>t</th>\n",
       "      <th>red_pos_X</th>\n",
       "      <th>red_pos_Y</th>\n",
       "      <th>blue_pos_X</th>\n",
       "      <th>blue_pos_Y</th>\n",
       "    </tr>\n",
       "  </thead>\n",
       "  <tbody>\n",
       "    <tr>\n",
       "      <th>0</th>\n",
       "      <td>1.718397</td>\n",
       "      <td>1.330174</td>\n",
       "      <td>0.993564</td>\n",
       "      <td>1.081700</td>\n",
       "      <td>-1.295918</td>\n",
       "    </tr>\n",
       "    <tr>\n",
       "      <th>1</th>\n",
       "      <td>2.998056</td>\n",
       "      <td>1.310404</td>\n",
       "      <td>1.012772</td>\n",
       "      <td>1.004997</td>\n",
       "      <td>-1.254394</td>\n",
       "    </tr>\n",
       "    <tr>\n",
       "      <th>2</th>\n",
       "      <td>6.015073</td>\n",
       "      <td>1.270312</td>\n",
       "      <td>1.028386</td>\n",
       "      <td>1.113696</td>\n",
       "      <td>-1.321257</td>\n",
       "    </tr>\n",
       "    <tr>\n",
       "      <th>3</th>\n",
       "      <td>8.267651</td>\n",
       "      <td>1.331131</td>\n",
       "      <td>0.948223</td>\n",
       "      <td>1.001845</td>\n",
       "      <td>-1.285209</td>\n",
       "    </tr>\n",
       "    <tr>\n",
       "      <th>4</th>\n",
       "      <td>9.279321</td>\n",
       "      <td>1.346159</td>\n",
       "      <td>0.963485</td>\n",
       "      <td>1.113008</td>\n",
       "      <td>-1.261147</td>\n",
       "    </tr>\n",
       "  </tbody>\n",
       "</table>\n",
       "</div>"
      ],
      "text/plain": [
       "          t  red_pos_X  red_pos_Y  blue_pos_X  blue_pos_Y\n",
       "0  1.718397   1.330174   0.993564    1.081700   -1.295918\n",
       "1  2.998056   1.310404   1.012772    1.004997   -1.254394\n",
       "2  6.015073   1.270312   1.028386    1.113696   -1.321257\n",
       "3  8.267651   1.331131   0.948223    1.001845   -1.285209\n",
       "4  9.279321   1.346159   0.963485    1.113008   -1.261147"
      ]
     },
     "execution_count": 1,
     "metadata": {},
     "output_type": "execute_result"
    }
   ],
   "source": [
    "import numpy as np\n",
    "import matplotlib.pyplot as plt\n",
    "import pymc3 as pm\n",
    "import seaborn as sns\n",
    "import pandas as pd\n",
    "%matplotlib inline\n",
    "\n",
    "# Read in data\n",
    "fname = './location_data_hw9_2018.csv'\n",
    "df = pd.read_csv(fname)\n",
    "\n",
    "df.head()"
   ]
  },
  {
   "cell_type": "code",
   "execution_count": 2,
   "metadata": {},
   "outputs": [],
   "source": [
    "# Scale the velocities by 1000 for fewer decimal places\n",
    "scl = 1000;\n",
    "\n",
    "def mcmc_measurement(color='blue', df=df):\n",
    "    varY = color+'_pos_Y'\n",
    "    varX = color+'_pos_X'\n",
    "    \n",
    "    Y = df[varY]\n",
    "    X = df[varX]\n",
    "    T = df['t']\n",
    "\n",
    "    linefitX = np.polyfit(T, X, 1)\n",
    "    sigma_X = np.std(X - (linefitX[0]*T + linefitX[1]))\n",
    "    \n",
    "    linefitY = np.polyfit(T, Y, 1)\n",
    "    sigma_Y = np.std(Y - (linefitY[0]*T + linefitY[1]))\n",
    "    \n",
    "    with pm.Model() as model:\n",
    "        # priors for unknown model parameters\n",
    "        x0 = pm.Normal('x0', mu=linefitX[1], sd=10*sigma_X)\n",
    "        vX = pm.Normal('vX', mu=scl*linefitX[0], sd=scl*10*np.abs(linefitX[0]))\n",
    "        sigmaX = pm.HalfNormal('sigmaX', sd=10*sigma_X)\n",
    "        \n",
    "        y0 = pm.Normal('y0', mu=linefitY[1], sd=10*sigma_Y)\n",
    "        vY = pm.Normal('vY', mu=scl*linefitY[0], sd=scl*10*np.abs(linefitY[0]))\n",
    "        sigmaY = pm.HalfNormal('sigmaY', sd=10*sigma_Y)\n",
    "        \n",
    "        # Deterministic calculated quantities of interest from model parameters\n",
    "        speed  = pm.Deterministic('speed',  np.sqrt(vX**2 + vY**2))\n",
    "        tYZero = pm.Deterministic('tYZero', -y0/(vY/scl))\n",
    "\n",
    "        # expected value of outcome\n",
    "        muX = x0 + vX/scl*T\n",
    "        muY = y0 + vY/scl*T\n",
    "\n",
    "        # likelihood (sampling distribution) of observations\n",
    "        X_obs = pm.Normal('X_obs', mu=muX, sd=sigmaX, observed=X)\n",
    "        Y_obs = pm.Normal('Y_obs', mu=muY, sd=sigmaY, observed=Y)\n",
    "\n",
    "    with model:\n",
    "        step = pm.NUTS()\n",
    "        trace = pm.sample(50000, step=step, njobs=1, tune=1000)\n",
    "        \n",
    "    burned_in = trace[1000:]\n",
    "    thinned = burned_in[::5] \n",
    "\n",
    "    return thinned"
   ]
  },
  {
   "cell_type": "code",
   "execution_count": 3,
   "metadata": {},
   "outputs": [
    {
     "name": "stderr",
     "output_type": "stream",
     "text": [
      "/Users/mattjaffe/anaconda3/lib/python3.6/site-packages/pymc3/model.py:384: FutureWarning: Conversion of the second argument of issubdtype from `float` to `np.floating` is deprecated. In future, it will be treated as `np.float64 == np.dtype(float).type`.\n",
      "  if not np.issubdtype(var.dtype, float):\n",
      "Sequential sampling (2 chains in 1 job)\n",
      "NUTS: [sigmaY_log__, vY, y0, sigmaX_log__, vX, x0]\n",
      "100%|██████████| 51000/51000 [03:13<00:00, 263.73it/s]\n",
      "100%|██████████| 51000/51000 [02:50<00:00, 299.87it/s]\n",
      "/Users/mattjaffe/anaconda3/lib/python3.6/site-packages/pymc3/model.py:384: FutureWarning: Conversion of the second argument of issubdtype from `float` to `np.floating` is deprecated. In future, it will be treated as `np.float64 == np.dtype(float).type`.\n",
      "  if not np.issubdtype(var.dtype, float):\n",
      "Sequential sampling (2 chains in 1 job)\n",
      "NUTS: [sigmaY_log__, vY, y0, sigmaX_log__, vX, x0]\n",
      "100%|██████████| 51000/51000 [03:06<00:00, 274.09it/s]\n",
      "100%|██████████| 51000/51000 [03:21<00:00, 252.85it/s]\n"
     ]
    }
   ],
   "source": [
    "blue_trace = mcmc_measurement('blue')\n",
    "red_trace = mcmc_measurement('red')"
   ]
  },
  {
   "cell_type": "markdown",
   "metadata": {},
   "source": [
    "## Blue and red speed posteriors"
   ]
  },
  {
   "cell_type": "code",
   "execution_count": 4,
   "metadata": {},
   "outputs": [
    {
     "data": {
      "image/png": "[encoded data removed]",
      "text/plain": [
       "<Figure size 864x576 with 1 Axes>"
      ]
     },
     "metadata": {},
     "output_type": "display_data"
    }
   ],
   "source": [
    "fig, ax = plt.subplots(figsize=(12,8))\n",
    "\n",
    "which_label={0:'blue', 1:'red'}\n",
    "for j, trace in enumerate([blue_trace, red_trace]):\n",
    "    for chain in trace.chains:\n",
    "        plt.hist(trace.get_values('speed', chains=[chain]), density=True, bins='fd',\n",
    "                 label=f'{which_label[j]}, chain {chain}', alpha=0.8)\n",
    "plt.legend()\n",
    "ax.set_xlabel(f'Speed (* {scl})')\n",
    "ax.set_ylabel('p(speed|data)')\n",
    "ax.set_title('Posterior distributions')\n",
    "plt.show()"
   ]
  },
  {
   "cell_type": "markdown",
   "metadata": {},
   "source": [
    "# Part (b)"
   ]
  },
  {
   "cell_type": "markdown",
   "metadata": {},
   "source": [
    "The time where the object crosses true_Y = 0 is calculated as tYZero in the MCMC simulation"
   ]
  },
  {
   "cell_type": "code",
   "execution_count": 5,
   "metadata": {},
   "outputs": [],
   "source": [
    "from collections import Counter\n",
    "def get_595Quantile(trace, varname='tYZero'):\n",
    "    quantiles = pm.quantiles(trace, [5,95])\n",
    "    \n",
    "    # average over the chains\n",
    "    sums = Counter()\n",
    "    counters = Counter()\n",
    "    for chain in quantiles:\n",
    "        sums.update(quantiles[chain][varname])\n",
    "        counters.update(quantiles[chain][varname].keys())\n",
    "    quantile595 = {x: float(sums[x])/counters[x] for x in sums.keys()}\n",
    "\n",
    "    return quantile595"
   ]
  },
  {
   "cell_type": "code",
   "execution_count": 6,
   "metadata": {},
   "outputs": [
    {
     "name": "stdout",
     "output_type": "stream",
     "text": [
      "Blue object\n",
      "--------------------------------------------------\n",
      "{5: 572.3337233382048, 95: 577.1040515839427}\n",
      "Red object\n",
      "--------------------------------------------------\n",
      "{5: 433.02995894637394, 95: 434.8671647223973}\n"
     ]
    }
   ],
   "source": [
    "blue595 = get_595Quantile(blue_trace)\n",
    "print('Blue object\\n' + '-'*50)\n",
    "print(blue595)\n",
    "\n",
    "print('Red object\\n' + '-'*50)\n",
    "print(get_595Quantile(red_trace))"
   ]
  },
  {
   "cell_type": "markdown",
   "metadata": {},
   "source": [
    "Since these are extremely non-overlapping, we can simply take the later of the times:"
   ]
  },
  {
   "cell_type": "code",
   "execution_count": 7,
   "metadata": {},
   "outputs": [
    {
     "name": "stdout",
     "output_type": "stream",
     "text": [
      "First time when Y_blue>=0 and Y_red <= 0:\n",
      "--------------------------------------------------\n",
      "5% - 95% confidence interval: (572.33,  577.10)\n"
     ]
    }
   ],
   "source": [
    "print('First time when Y_blue>=0 and Y_red <= 0:\\n' + '-'*50)\n",
    "print(f'5% - 95% confidence interval: ({blue595[5]:.2f},  {blue595[95]:.2f})')"
   ]
  },
  {
   "cell_type": "markdown",
   "metadata": {},
   "source": [
    "# Part (c)"
   ]
  },
  {
   "cell_type": "markdown",
   "metadata": {},
   "source": [
    "If the two objects have the same speed v, this reduces the number of free parameters from 4 ($v_\\text{red,x}$,   $v_\\text{red,y}$,   $v_\\text{blue,x}$,   $v_\\text{blue,y}$) to 3. We can parameterize these as the speed $v$, and angles $\\theta_\\text{red}$ and $\\theta_\\text{blue}$ such that\n",
    "* $v_\\text{red,x} = v \\cos\\theta_\\text{red}$\n",
    "* $v_\\text{red,y} = v \\sin\\theta_\\text{red}$\n",
    "* $v_\\text{blue,x} = v \\cos\\theta_\\text{blue}$\n",
    "* $v_\\text{blue,y} = v \\sin\\theta_\\text{blue}$\n",
    "\n",
    "We'll create a model with similarly broad priors that use the results from the last section as starting points, and fits both objects at the same time"
   ]
  },
  {
   "cell_type": "code",
   "execution_count": 8,
   "metadata": {},
   "outputs": [],
   "source": [
    "v00 = np.mean([red_trace['speed'], blue_trace['speed']])\n",
    "theta_red_00 =  np.arcsin( np.mean([red_trace['vY']])  /  np.mean([red_trace['speed']]  ))\n",
    "theta_blue_00 = np.arcsin( np.mean([blue_trace['vY']]) /  np.mean([blue_trace['speed']] ))\n",
    "\n",
    "def mcmc_fixed_speed(df=df):\n",
    "    \n",
    "    T = df['t']\n",
    "    Xred  = df['red_pos_X']\n",
    "    Yred  = df['red_pos_Y']\n",
    "    Xblue = df['blue_pos_X']\n",
    "    Yblue = df['blue_pos_Y']\n",
    "\n",
    "    linefitXred = np.polyfit(T, Xred, 1)\n",
    "    sigma_Xred = np.std(Xred - (linefitXred[0]*T + linefitXred[1]))\n",
    "    linefitYred = np.polyfit(T, Yred, 1)\n",
    "    sigma_Yred = np.std(Yred - (linefitYred[0]*T + linefitYred[1]))\n",
    "    linefitXblue = np.polyfit(T, Xblue, 1)\n",
    "    sigma_Xblue = np.std(Xblue - (linefitXblue[0]*T + linefitXblue[1]))\n",
    "    linefitYblue = np.polyfit(T, Yblue, 1)\n",
    "    sigma_Yblue = np.std(Yblue - (linefitYblue[0]*T + linefitYblue[1]))    \n",
    "    \n",
    "    with pm.Model() as model:\n",
    "        # priors for unknown model parameters\n",
    "        x0red = pm.Normal('x0red',   mu=linefitXred[1],  sd=10*sigma_Xred)\n",
    "        y0red = pm.Normal('y0red',   mu=linefitYred[1],  sd=10*sigma_Yred)\n",
    "        x0blue = pm.Normal('x0blue', mu=linefitXblue[1], sd=10*sigma_Xblue)\n",
    "        y0blue = pm.Normal('y0blue', mu=linefitYblue[1], sd=10*sigma_Yblue)\n",
    "\n",
    "        sigmaXred = pm.HalfNormal('sigmaXred', sd=10*sigma_Xred)\n",
    "        sigmaYred = pm.HalfNormal('sigmaYred', sd=10*sigma_Yred)\n",
    "        sigmaXblue = pm.HalfNormal('sigmaXblue', sd=10*sigma_Xblue)\n",
    "        sigmaYblue = pm.HalfNormal('sigmaYblue', sd=10*sigma_Yblue)\n",
    "\n",
    "        \n",
    "        speed = pm.Normal('speed', mu=v00, sd=v00)\n",
    "        theta_red = pm.Normal('theta_red', mu=theta_red_00, sd=1)\n",
    "        theta_blue = pm.Normal('theta_blue', mu=theta_blue_00, sd=1)\n",
    "        \n",
    "        # Deterministic calculated quantities of interest from model parameters\n",
    "        vXred =  pm.Deterministic('vXred',  speed*np.cos(theta_red) )\n",
    "        vYred =  pm.Deterministic('vYred',  speed*np.sin(theta_red) )\n",
    "        vXblue = pm.Deterministic('vXblue', speed*np.cos(theta_blue))\n",
    "        vYblue = pm.Deterministic('vYblue', speed*np.sin(theta_blue))\n",
    "        \n",
    "        tYZeroRed  = pm.Deterministic('tYZeroRed',  -y0red/(vYred/scl))\n",
    "        tYZeroBlue = pm.Deterministic('tYZeroBlue', -y0blue/(vYblue/scl))\n",
    "        \n",
    "        # expected value of outcome\n",
    "        muXred  = x0red  + vXred/scl  * T\n",
    "        muYred  = y0red  + vYred/scl  * T\n",
    "        muXblue = x0blue + vXblue/scl * T\n",
    "        muYblue = y0blue + vYblue/scl * T\n",
    "        \n",
    "        # likelihood (sampling distribution) of observations\n",
    "        X_red_obs = pm.Normal('X_red_obs', mu=muXred, sd=sigmaXred, observed=Xred)\n",
    "        Y_red_obs = pm.Normal('Y_red_obs', mu=muYred, sd=sigmaYred, observed=Yred)\n",
    "        X_blue_obs = pm.Normal('X_blue_obs', mu=muXblue, sd=sigmaXblue, observed=Xblue)\n",
    "        Y_blue_obs = pm.Normal('Y_blue_obs', mu=muYblue, sd=sigmaYblue, observed=Yblue)\n",
    "        \n",
    "    with model:\n",
    "        step = pm.NUTS()\n",
    "        trace = pm.sample(50000, step=step, njobs=1, tune=1000)\n",
    "        \n",
    "    burned_in = trace[1000:]\n",
    "    thinned = burned_in[::5] \n",
    "\n",
    "    return thinned"
   ]
  },
  {
   "cell_type": "code",
   "execution_count": 9,
   "metadata": {},
   "outputs": [
    {
     "name": "stderr",
     "output_type": "stream",
     "text": [
      "/Users/mattjaffe/anaconda3/lib/python3.6/site-packages/pymc3/model.py:384: FutureWarning: Conversion of the second argument of issubdtype from `float` to `np.floating` is deprecated. In future, it will be treated as `np.float64 == np.dtype(float).type`.\n",
      "  if not np.issubdtype(var.dtype, float):\n",
      "Sequential sampling (2 chains in 1 job)\n",
      "NUTS: [theta_blue, theta_red, speed, sigmaYblue_log__, sigmaXblue_log__, sigmaYred_log__, sigmaXred_log__, y0blue, x0blue, y0red, x0red]\n",
      "100%|██████████| 51000/51000 [05:12<00:00, 162.97it/s]\n",
      "100%|██████████| 51000/51000 [05:46<00:00, 147.35it/s]\n"
     ]
    }
   ],
   "source": [
    "same_speed_trace = mcmc_fixed_speed()"
   ]
  },
  {
   "cell_type": "markdown",
   "metadata": {},
   "source": [
    "## Same-speed comparison with (a)"
   ]
  },
  {
   "cell_type": "code",
   "execution_count": 20,
   "metadata": {},
   "outputs": [
    {
     "data": {
      "image/png": "[encoded data removed]",
      "text/plain": [
       "<Figure size 864x576 with 1 Axes>"
      ]
     },
     "metadata": {},
     "output_type": "display_data"
    }
   ],
   "source": [
    "fig, ax = plt.subplots(figsize=(12,8))\n",
    "which_label={0:'v_blue (independent)', 1:'v_red (independent)', 2:'same v', }\n",
    "for j, trace in enumerate([blue_trace, red_trace, same_speed_trace]):\n",
    "    for chain in trace.chains:\n",
    "        plt.hist(trace.get_values('speed', chains=[chain]), density=True, bins='fd',\n",
    "                 label=f'{which_label[j]}, chain {chain}', alpha=0.8)\n",
    "plt.legend()\n",
    "ax.set_xlabel(f'Speed (* {scl})')\n",
    "ax.set_ylabel('p(speed|data)')\n",
    "ax.set_title('Posterior distributions')\n",
    "plt.show()"
   ]
  },
  {
   "cell_type": "markdown",
   "metadata": {},
   "source": [
    "So enforcing the same v takes on mostly the form of the (narrower) red speed, shifted a bit towards the blue speed."
   ]
  },
  {
   "cell_type": "markdown",
   "metadata": {},
   "source": [
    "## Same-speed comparison with (b)"
   ]
  },
  {
   "cell_type": "code",
   "execution_count": 11,
   "metadata": {},
   "outputs": [
    {
     "name": "stdout",
     "output_type": "stream",
     "text": [
      "First time when Y_blue>=0 and Y_red <= 0:\n",
      "--------------------------------------------------\n",
      "5% - 95% confidence interval: (572.69,  577.25)\n",
      "\n",
      "Compared with:\n",
      "--------------------------------------------------\n",
      "5% - 95% confidence interval: (572.33,  577.10)\n"
     ]
    }
   ],
   "source": [
    "blue595samev = get_595Quantile(same_speed_trace, varname='tYZeroBlue')\n",
    "print('First time when Y_blue>=0 and Y_red <= 0:\\n' + '-'*50)\n",
    "print(f'5% - 95% confidence interval: ({blue595samev[5]:.2f},  {blue595samev[95]:.2f})')\n",
    "print('\\nCompared with:\\n' + '-'*50)\n",
    "print(f'5% - 95% confidence interval: ({blue595[5]:.2f},  {blue595[95]:.2f})')"
   ]
  },
  {
   "cell_type": "markdown",
   "metadata": {},
   "source": [
    "Very tiny shift; seems pretty unaffected."
   ]
  },
  {
   "cell_type": "markdown",
   "metadata": {},
   "source": [
    "# Part (d)"
   ]
  },
  {
   "cell_type": "markdown",
   "metadata": {},
   "source": [
    "## comparison with (a)"
   ]
  },
  {
   "cell_type": "code",
   "execution_count": 12,
   "metadata": {},
   "outputs": [
    {
     "name": "stderr",
     "output_type": "stream",
     "text": [
      "/Users/mattjaffe/anaconda3/lib/python3.6/site-packages/pymc3/model.py:384: FutureWarning: Conversion of the second argument of issubdtype from `float` to `np.floating` is deprecated. In future, it will be treated as `np.float64 == np.dtype(float).type`.\n",
      "  if not np.issubdtype(var.dtype, float):\n",
      "Sequential sampling (2 chains in 1 job)\n",
      "NUTS: [sigmaY_log__, vY, y0, sigmaX_log__, vX, x0]\n",
      "100%|██████████| 51000/51000 [03:04<00:00, 277.15it/s]\n",
      "100%|██████████| 51000/51000 [02:47<00:00, 304.20it/s]\n",
      "Sequential sampling (2 chains in 1 job)\n",
      "NUTS: [sigmaY_log__, vY, y0, sigmaX_log__, vX, x0]\n",
      "100%|██████████| 51000/51000 [02:59<00:00, 284.35it/s]\n",
      "100%|██████████| 51000/51000 [02:40<00:00, 317.16it/s]\n"
     ]
    }
   ],
   "source": [
    "blue_trace100 = mcmc_measurement('blue', df=df[:100])\n",
    "red_trace100 = mcmc_measurement('red', df=df[:100])"
   ]
  },
  {
   "cell_type": "code",
   "execution_count": 13,
   "metadata": {},
   "outputs": [
    {
     "data": {
      "image/png": "[encoded data removed]",
      "text/plain": [
       "<Figure size 864x576 with 1 Axes>"
      ]
     },
     "metadata": {},
     "output_type": "display_data"
    }
   ],
   "source": [
    "fig, ax = plt.subplots(figsize=(12,8))\n",
    "\n",
    "# only look at one chain for each\n",
    "which_label={0:'blue, full', 1:'red, full', 2:'blue, 100', 3:'red, 100', }\n",
    "for j, trace in enumerate([blue_trace, red_trace, blue_trace100, red_trace100]):\n",
    "        plt.hist(trace.get_values('speed', chains=[0]), density=True, bins='fd',\n",
    "                 label=f'{which_label[j]}', alpha=0.8)\n",
    "plt.legend()\n",
    "ax.set_xlabel(f'Speed (* {scl})')\n",
    "ax.set_ylabel('p(speed|data)')\n",
    "ax.set_title('Posterior distributions')\n",
    "plt.show()"
   ]
  },
  {
   "cell_type": "markdown",
   "metadata": {},
   "source": [
    "Including more data significantly narrows up both distributions, and shifts the mean of the speed distribution up."
   ]
  },
  {
   "cell_type": "markdown",
   "metadata": {},
   "source": [
    "## comparison with (b)"
   ]
  },
  {
   "cell_type": "code",
   "execution_count": 14,
   "metadata": {},
   "outputs": [
    {
     "name": "stdout",
     "output_type": "stream",
     "text": [
      "First time when Y_blue>=0 and Y_red <= 0 with only 100 points:\n",
      "--------------------------------------------------\n",
      "5% - 95% confidence interval: (568.07,  588.60)\n",
      "\n",
      "Compared with:\n",
      "--------------------------------------------------\n",
      "5% - 95% confidence interval: (572.33,  577.10)\n"
     ]
    }
   ],
   "source": [
    "blue595_100 = get_595Quantile(blue_trace100)\n",
    "\n",
    "print('First time when Y_blue>=0 and Y_red <= 0 with only 100 points:\\n' + '-'*50)\n",
    "print(f'5% - 95% confidence interval: ({blue595_100[5]:.2f},  {blue595_100[95]:.2f})')\n",
    "print('\\nCompared with:\\n' + '-'*50)\n",
    "print(f'5% - 95% confidence interval: ({blue595[5]:.2f},  {blue595[95]:.2f})')"
   ]
  },
  {
   "cell_type": "markdown",
   "metadata": {},
   "source": [
    "Wider confidence interval with fewer points, as you'd expect."
   ]
  },
  {
   "cell_type": "markdown",
   "metadata": {},
   "source": [
    "## comparison with (c)"
   ]
  },
  {
   "cell_type": "code",
   "execution_count": 15,
   "metadata": {},
   "outputs": [
    {
     "name": "stderr",
     "output_type": "stream",
     "text": [
      "/Users/mattjaffe/anaconda3/lib/python3.6/site-packages/pymc3/model.py:384: FutureWarning: Conversion of the second argument of issubdtype from `float` to `np.floating` is deprecated. In future, it will be treated as `np.float64 == np.dtype(float).type`.\n",
      "  if not np.issubdtype(var.dtype, float):\n",
      "Sequential sampling (2 chains in 1 job)\n",
      "NUTS: [theta_blue, theta_red, speed, sigmaYblue_log__, sigmaXblue_log__, sigmaYred_log__, sigmaXred_log__, y0blue, x0blue, y0red, x0red]\n",
      "100%|██████████| 51000/51000 [04:57<00:00, 171.54it/s]\n",
      "100%|██████████| 51000/51000 [05:12<00:00, 163.45it/s]\n"
     ]
    }
   ],
   "source": [
    "same_speed_trace100 = mcmc_fixed_speed(df[:100])"
   ]
  },
  {
   "cell_type": "code",
   "execution_count": 16,
   "metadata": {},
   "outputs": [
    {
     "data": {
      "image/png": "[encoded data removed]",
      "text/plain": [
       "<Figure size 864x576 with 1 Axes>"
      ]
     },
     "metadata": {},
     "output_type": "display_data"
    }
   ],
   "source": [
    "fig, ax = plt.subplots(figsize=(12,8))\n",
    "which_label={0:'same v, 100 pts', 1:'same v, full', }\n",
    "for j, trace in enumerate([same_speed_trace100, same_speed_trace]):\n",
    "    for chain in trace.chains:\n",
    "        plt.hist(trace.get_values('speed', chains=[chain]), density=True, bins='fd',\n",
    "                 label=f'{which_label[j]}, chain {chain}', alpha=0.8)\n",
    "plt.legend()\n",
    "ax.set_xlabel(f'Speed (* {scl})')\n",
    "ax.set_ylabel('p(speed|data)')\n",
    "ax.set_title('Posterior distributions')\n",
    "plt.show()"
   ]
  },
  {
   "cell_type": "markdown",
   "metadata": {},
   "source": [
    "Same as in the comparison with (a): including more data significantly narrows up both distributions, and shifts the mean of the speed distribution up."
   ]
  }
 ],
 "metadata": {
  "kernelspec": {
   "display_name": "Python 3",
   "language": "python",
   "name": "python3"
  },
  "language_info": {
   "codemirror_mode": {
    "name": "ipython",
    "version": 3
   },
   "file_extension": ".py",
   "mimetype": "text/x-python",
   "name": "python",
   "nbconvert_exporter": "python",
   "pygments_lexer": "ipython3",
   "version": "3.6.5"
  }
 },
 "nbformat": 4,
 "nbformat_minor": 2
}
